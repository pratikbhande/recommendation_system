{
 "cells": [
  {
   "cell_type": "markdown",
   "id": "5bf77dfa",
   "metadata": {},
   "source": [
    "### Code Flow and Explanation:\n",
    "\n",
    "1. **Import Libraries**:\n",
    "   - `pandas` for data manipulation.\n",
    "   - `cosine_similarity` from `sklearn.metrics.pairwise` for calculating item similarity.\n",
    "   - `numpy` for numerical operations.\n",
    "\n",
    "2. **Load Data**:\n",
    "   - Load user-event interaction data from the Excel file `Combined_Interactions.xlsx`.\n",
    "\n",
    "3. **Create Item-User Matrix**:\n",
    "   - Pivot the data to create an **item-user interaction matrix**, where rows represent event IDs, columns represent user names, and values are interaction scores. Missing values are filled with 0.\n",
    "\n",
    "4. **Compute Item Similarity**:\n",
    "   - Use **cosine similarity** to compute a similarity matrix between events (item-item similarity) based on how users have interacted with those events.\n",
    "\n",
    "5. **Recommendation Function**:\n",
    "   - The `recommend_events()` function recommends events for a given user based on event similarity:\n",
    "     - Retrieve events the user has already interacted with.\n",
    "     - For each interacted event, find similar events using the **item-item similarity matrix**.\n",
    "     - Check if the similar event has not been interacted with by the user.\n",
    "     - Accumulate scores for similar events and return the top `n` most similar events.\n",
    "\n",
    "6. **Sorting and Output**:\n",
    "   - Recommendations are sorted based on similarity scores, and the top `n` (default 10) recommendations are returned.\n",
    "\n",
    "7. **Example Usage**:\n",
    "   - The function is called for the user **Pratik Bhande** to generate event recommendations.\n",
    "   - The top recommendations are printed along with the user's name."
   ]
  },
  {
   "cell_type": "code",
   "execution_count": 6,
   "id": "bae23f8d-d8dc-4e97-b4fe-7b8734732de8",
   "metadata": {},
   "outputs": [
    {
     "name": "stdout",
     "output_type": "stream",
     "text": [
      "Recommended events for Pratik Bhande: [('EVT0030', 7.004089349457065), ('EVT0085', 6.437880653718111), ('EVT0122', 5.524320129548883), ('EVT0147', 4.913007800373261), ('EVT0022', 4.305465039190288), ('EVT0131', 4.135989903771232), ('EVT0081', 4.135989903771232), ('EVT0188', 4.135989903771232), ('EVT0140', 3.998255417005438), ('EVT0041', 3.947359782393053)]\n"
     ]
    }
   ],
   "source": [
    "import pandas as pd\n",
    "from sklearn.metrics.pairwise import cosine_similarity\n",
    "import numpy as np\n",
    "\n",
    "# Load data\n",
    "data = pd.read_excel('Combined_Interactions.xlsx')\n",
    "\n",
    "# Filter out events with interaction score of -1\n",
    "#data = data[data['Interaction Score'] != -1]\n",
    "\n",
    "# Pivot table to create item-user interaction matrix\n",
    "item_user_matrix = data.pivot_table(index='Event ID', columns='Name', values='Interaction Score', fill_value=0)\n",
    "\n",
    "# Compute item-item similarity matrix using cosine similarity\n",
    "item_similarity = cosine_similarity(item_user_matrix)\n",
    "\n",
    "# Function to recommend events for a given user based on item similarity\n",
    "def recommend_events(user, top_n=10):\n",
    "    # Get the events already interacted with by the user\n",
    "    interacted_events = data[data['Name'] == user]['Event ID'].tolist()\n",
    "    \n",
    "    # Initialize dictionary to store event recommendations\n",
    "    event_recommendations = {}\n",
    "\n",
    "    # Iterate over the interacted events and recommend similar events\n",
    "    for event_id in interacted_events:\n",
    "        event_index = item_user_matrix.index.get_loc(event_id)\n",
    "        similar_events = np.argsort(item_similarity[event_index])[::-1]  # Sort events by similarity\n",
    "        \n",
    "        for similar_event in similar_events:\n",
    "            similar_event_id = item_user_matrix.index[similar_event]\n",
    "            if similar_event_id not in interacted_events:\n",
    "                if similar_event_id not in event_recommendations:\n",
    "                    event_recommendations[similar_event_id] = item_similarity[event_index][similar_event]\n",
    "                else:\n",
    "                    event_recommendations[similar_event_id] += item_similarity[event_index][similar_event]\n",
    "    \n",
    "    # Sort recommendations by similarity score\n",
    "    sorted_recommendations = sorted(event_recommendations.items(), key=lambda x: x[1], reverse=True)\n",
    "    \n",
    "    # Return top n recommendations\n",
    "    return sorted_recommendations[:top_n]\n",
    "\n",
    "# Example: Recommend events for user 'Shreyas'\n",
    "user = 'Pratik Bhande'\n",
    "recommended_events = recommend_events(user)\n",
    "print(\"Recommended events for {}: {}\".format(user, recommended_events))\n"
   ]
  },
  {
   "cell_type": "code",
   "execution_count": 1,
   "id": "12d5f697-c322-48db-80c9-3149c7071326",
   "metadata": {},
   "outputs": [],
   "source": [
    "# change interaction score for event event similarity"
   ]
  },
  {
   "cell_type": "code",
   "execution_count": null,
   "id": "b6a9fdee-70bb-465b-b203-1d65fd0784a3",
   "metadata": {},
   "outputs": [],
   "source": []
  }
 ],
 "metadata": {
  "kernelspec": {
   "display_name": "Python 3 (ipykernel)",
   "language": "python",
   "name": "python3"
  },
  "language_info": {
   "codemirror_mode": {
    "name": "ipython",
    "version": 3
   },
   "file_extension": ".py",
   "mimetype": "text/x-python",
   "name": "python",
   "nbconvert_exporter": "python",
   "pygments_lexer": "ipython3",
   "version": "3.12.4"
  }
 },
 "nbformat": 4,
 "nbformat_minor": 5
}
