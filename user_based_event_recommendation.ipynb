{
 "cells": [
  {
   "cell_type": "markdown",
   "metadata": {},
   "source": [
    "### Code Flow and Explanation:\n",
    "\n",
    "1. **Import Libraries**:\n",
    "   - `pandas` for data manipulation, `cosine_similarity` from `sklearn.metrics.pairwise` for similarity computation, and `numpy` for numerical operations.\n",
    "\n",
    "2. **Load Data**:\n",
    "   - Load the user-event interaction data from the Excel file `Combined_Interactions.xlsx`.\n",
    "\n",
    "3. **Create User-Item Matrix**:\n",
    "   - Pivot the data to form a **user-item interaction matrix** (`user_item_matrix`), where rows represent users, columns represent events, and values are interaction scores. Missing values are filled with 0.\n",
    "\n",
    "4. **Compute User Similarity**:\n",
    "   - Use **cosine similarity** to compute a similarity matrix between users based on their event interaction behavior.\n",
    "\n",
    "5. **Recommend Events Function**:\n",
    "   - The `recommend_events(user_index, top_n=10)` function recommends the top `n` events for a given user:\n",
    "     - Find similar users by sorting based on similarity scores.\n",
    "     - Check events that similar users have interacted with but the target user has not.\n",
    "     - Accumulate recommendation scores based on the interactions of similar users.\n",
    "\n",
    "6. **Recommendation Filtering**:\n",
    "   - Exclude events the user has already interacted with or events with a score of `-1`.\n",
    "\n",
    "7. **Sort Recommendations**:\n",
    "   - Sort the event recommendations by interaction score in descending order and return the top `n` recommendations.\n",
    "\n",
    "8. **Example Usage**:\n",
    "   - Recommends events for the user `'Ketaki'` and prints the top recommendations."
   ]
  },
  {
   "cell_type": "code",
   "execution_count": 5,
   "metadata": {},
   "outputs": [
    {
     "name": "stdout",
     "output_type": "stream",
     "text": [
      "Recommended events for Ketaki: [('EVT0022', 47), ('EVT0085', 45), ('EVT0030', 44), ('EVT0018', 41), ('EVT0020', 38), ('EVT0147', 34), ('EVT0025', 28), ('EVT0100', 25), ('EVT0142', 24), ('EVT0024', 20)]\n"
     ]
    }
   ],
   "source": [
    "import pandas as pd\n",
    "from sklearn.metrics.pairwise import cosine_similarity\n",
    "import numpy as np\n",
    "\n",
    "# Load data\n",
    "data = pd.read_excel('Combined_Interactions.xlsx')\n",
    "\n",
    "# Filter out events with interaction score of -1\n",
    "#data = data[data['Interaction Score'] != -1]\n",
    "\n",
    "# Pivot table to create user-item interaction matrix\n",
    "user_item_matrix = data.pivot_table(index='Name', columns='Event ID', values='Interaction Score', fill_value=0)\n",
    "\n",
    "# Compute user-user similarity matrix using cosine similarity\n",
    "user_similarity = cosine_similarity(user_item_matrix)\n",
    "\n",
    "# Function to recommend events for a given user\n",
    "# Function to recommend events for a given user\n",
    "def recommend_events(user_index, top_n=10):\n",
    "    # Find similar users\n",
    "    similar_users = np.argsort(user_similarity[user_index])[::-1][1:]  # Exclude the user itself\n",
    "    \n",
    "    # Initialize dictionary to store event recommendations\n",
    "    event_recommendations = {}\n",
    "    \n",
    "    # Get the events already interacted with by the user\n",
    "    #interacted_events = user_item_matrix.columns[user_item_matrix.iloc[user_index].to_numpy().nonzero()]\n",
    "    interacted_events = data[data['Name'] == user]['Event ID'].tolist()\n",
    "    # Iterate over similar users and recommend events\n",
    "    for similar_user in similar_users:\n",
    "        for event_id in user_item_matrix.columns:\n",
    "            if (user_item_matrix.iloc[user_index][event_id] == 0 and \n",
    "                user_item_matrix.iloc[similar_user][event_id] > 0 and \n",
    "                event_id not in interacted_events):  # Check if event is not already interacted with\n",
    "                if event_id not in event_recommendations and user_item_matrix.iloc[similar_user][event_id] != -1:\n",
    "                    event_recommendations[event_id] = user_item_matrix.iloc[similar_user][event_id]\n",
    "                elif user_item_matrix.iloc[similar_user][event_id] != -1:\n",
    "                    event_recommendations[event_id] += user_item_matrix.iloc[similar_user][event_id]\n",
    "    \n",
    "    # Sort recommendations by interaction score\n",
    "    sorted_recommendations = sorted(event_recommendations.items(), key=lambda x: x[1], reverse=True)\n",
    "    \n",
    "    # Return top n recommendations\n",
    "    return sorted_recommendations[:top_n]\n",
    "\n",
    "# Example: Recommend events for user 'Vasudev'\n",
    "user = 'Ketaki'\n",
    "user_index = user_item_matrix.index.get_loc(user) # Get the index of the user in the user_item_matrix\n",
    "recommended_events = recommend_events(user_index)\n",
    "print(\"Recommended events for {}: {}\".format(user, recommended_events))"
   ]
  },
  {
   "cell_type": "code",
   "execution_count": null,
   "metadata": {},
   "outputs": [],
   "source": []
  },
  {
   "cell_type": "markdown",
   "metadata": {},
   "source": []
  }
 ],
 "metadata": {
  "colab": {
   "provenance": []
  },
  "kernelspec": {
   "display_name": "Python 3 (ipykernel)",
   "language": "python",
   "name": "python3"
  },
  "language_info": {
   "codemirror_mode": {
    "name": "ipython",
    "version": 3
   },
   "file_extension": ".py",
   "mimetype": "text/x-python",
   "name": "python",
   "nbconvert_exporter": "python",
   "pygments_lexer": "ipython3",
   "version": "3.12.4"
  }
 },
 "nbformat": 4,
 "nbformat_minor": 4
}
